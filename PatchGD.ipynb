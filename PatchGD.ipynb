{
 "cells": [
  {
   "cell_type": "markdown",
   "id": "540f0edc",
   "metadata": {},
   "source": [
    "# Import packages"
   ]
  },
  {
   "cell_type": "code",
   "execution_count": null,
   "id": "a2193677",
   "metadata": {},
   "outputs": [],
   "source": [
    "import os\n",
    "os.environ['CUDA_MODULE_LOADING']='LAZY'\n",
    "\n",
    "from types import SimpleNamespace\n",
    "import pandas as pd\n",
    "from sklearn.model_selection import KFold\n",
    "\n",
    "from timm.utils import NativeScaler\n",
    "from timm.optim import create_optimizer\n",
    "from timm.scheduler import create_scheduler\n",
    "\n",
    "import numpy as np\n",
    "import torch\n",
    "import torch.nn as nn\n",
    "from torch.utils.data import DataLoader, SequentialSampler\n",
    "\n",
    "from rsna_utils import RsnaDataset\n",
    "from rsna_nets import Q1Net, Q2Net, load_q1_pretrained\n",
    "from rsna_engine import train_one_epoch, evaluate\n",
    "\n",
    "print(torch.__version__)"
   ]
  },
  {
   "cell_type": "markdown",
   "id": "fe095865",
   "metadata": {},
   "source": [
    "# Load train.csv file\n",
    "If you are running on Kolab or Kaggle it is important to change the path to this file."
   ]
  },
  {
   "cell_type": "code",
   "execution_count": null,
   "id": "a32da2bd",
   "metadata": {},
   "outputs": [],
   "source": [
    "DF_PATH = \"./dataset/train_with_box.csv\"\n",
    "IMG_PATH = \"./dataset/positive_images\"\n",
    "train_df = pd.read_csv(DF_PATH)\n",
    "train_df[\"id\"] = train_df.apply(lambda x: str(x.patient_id) + \"_\" + str(x.laterality), axis=1)"
   ]
  },
  {
   "cell_type": "markdown",
   "id": "19c2d169",
   "metadata": {},
   "source": [
    "# Define global variables and models"
   ]
  },
  {
   "cell_type": "code",
   "execution_count": null,
   "id": "e2657c20",
   "metadata": {},
   "outputs": [],
   "source": [
    "device = \"cuda\"\n",
    "lr = 5e-5\n",
    "weight_decay = 0.05\n",
    "momentum = 0.9\n",
    "batch_size = 32\n",
    "EPOCHES = 10\n",
    "\n",
    "q1_model = Q1Net(stem_chs=[64, 32, 64], depths=[3, 4, 20, 3], path_dropout=0.2)\n",
    "q1_model.to(device)\n",
    "load_q1_pretrained(\"./dataset/nextvit_base_in1k6m_384.pth\", q1_model)\n",
    "\n",
    "q2_model = Q2Net()\n",
    "q2_model.to(device)\n",
    "\n",
    "args = SimpleNamespace()\n",
    "args.opt = \"adamw\"\n",
    "args.lr = lr\n",
    "args.weight_decay = weight_decay\n",
    "args.batch_size = batch_size\n",
    "args.decay_rate = 0.1\n",
    "args.decay_epochs = 30\n",
    "args.warmup_epochs = 5\n",
    "args.cooldown_epochs = 10\n",
    "args.epochs = EPOCHES\n",
    "args.min_lr = 1e-5\n",
    "args.warmup_lr = 1e-6\n",
    "args.sched = \"cosine\"\n",
    "args.momentum = momentum\n",
    "\n",
    "q1_optimizer = create_optimizer(args, q1_model)\n",
    "q1_lr_scheduler, _ = create_scheduler(args, q1_optimizer)\n",
    "\n",
    "q2_optimizer = create_optimizer(args, q2_model)\n",
    "q2_lr_scheduler, _ = create_scheduler(args, q2_optimizer)\n",
    "\n",
    "criterion = nn.CrossEntropyLoss()\n",
    "\n",
    "inner_iterations = 4\n",
    "patch_size = 384\n",
    "patches_per_in_iter = 12\n",
    "grad_acc_steps = 2\n",
    "max_num_patches = 32\n",
    "img_mean = 0\n",
    "img_std = 1"
   ]
  },
  {
   "cell_type": "markdown",
   "id": "c5b8d813",
   "metadata": {},
   "source": [
    "# Split data into folds"
   ]
  },
  {
   "cell_type": "code",
   "execution_count": null,
   "id": "972b5132",
   "metadata": {},
   "outputs": [],
   "source": [
    "FOLD_NUM = 1\n",
    "all_patient_ids = train_df.id.unique()\n",
    "patient_ids_w_cancer = train_df[train_df.cancer == 1].id.unique()\n",
    "patient_ids_wo_cancer = np.array([p for p in all_patient_ids if p not in patient_ids_w_cancer])\n",
    "kf = KFold(n_splits=5)\n",
    "kf.get_n_splits(patient_ids_w_cancer)\n",
    "patients_w_iter = kf.split(patient_ids_w_cancer)\n",
    "kf.get_n_splits(patient_ids_wo_cancer)\n",
    "patients_wo_iter = kf.split(patient_ids_wo_cancer)\n",
    "for _ in range(FOLD_NUM):\n",
    "    first_fold_positive_train, first_fold_positive_valid = next(patients_w_iter)\n",
    "    first_fold_negative_train, first_fold_negative_valid = next(patients_wo_iter)\n",
    "    \n",
    "train_patient_ids = np.concatenate(\n",
    "    (\n",
    "        patient_ids_w_cancer[first_fold_positive_train],\n",
    "        patient_ids_wo_cancer[first_fold_negative_train]\n",
    "    )\n",
    ")\n",
    "train_labels = np.concatenate((\n",
    "    np.ones((len(first_fold_positive_train), ), dtype=np.int64),\n",
    "    np.zeros((len(first_fold_negative_train),), dtype=np.int64)\n",
    "))\n",
    "valid_patient_ids = np.concatenate(\n",
    "    (\n",
    "        patient_ids_w_cancer[first_fold_positive_valid],\n",
    "        patient_ids_wo_cancer[first_fold_negative_valid]\n",
    "    )\n",
    ")\n",
    "valid_labels = np.concatenate((\n",
    "    np.ones((len(first_fold_positive_valid), ), dtype=np.int64),\n",
    "    np.zeros((len(first_fold_negative_valid),), dtype=np.int64)\n",
    "))"
   ]
  },
  {
   "cell_type": "markdown",
   "id": "ccd678d2",
   "metadata": {},
   "source": [
    "# Create PyTorch Loaders"
   ]
  },
  {
   "cell_type": "code",
   "execution_count": null,
   "id": "49c11060",
   "metadata": {},
   "outputs": [],
   "source": [
    "train_dataset = RsnaDataset(train_patient_ids, train_labels, is_train=True)\n",
    "train_loader = DataLoader(\n",
    "    train_dataset,\n",
    "    sampler=SequentialSampler(train_dataset),\n",
    "    batch_size=batch_size,\n",
    "    drop_last=False,\n",
    "    num_workers=2,\n",
    "    pin_memory=True,\n",
    ")\n",
    "\n",
    "valid_dataset = RsnaDataset(valid_patient_ids, valid_labels, is_train=False)\n",
    "valid_loader = DataLoader(\n",
    "    valid_dataset,\n",
    "    sampler=SequentialSampler(valid_dataset),\n",
    "    batch_size=batch_size,\n",
    "    drop_last=False,\n",
    "    num_workers=2,\n",
    "    pin_memory=True,\n",
    ")"
   ]
  },
  {
   "cell_type": "markdown",
   "id": "6314526f",
   "metadata": {},
   "source": [
    "# Run training"
   ]
  },
  {
   "cell_type": "code",
   "execution_count": null,
   "id": "1646cba9",
   "metadata": {},
   "outputs": [],
   "source": [
    "for epoch in range(EPOCHES):\n",
    "    train_one_epoch(\n",
    "        train_df, IMG_PATH, patch_size, patches_per_in_iter, grad_acc_steps,\n",
    "        q1_model, q2_model, criterion, train_loader,\n",
    "        q1_optimizer, q2_optimizer, inner_iterations, \n",
    "        device, epoch, max_num_patches=max_num_patches,\n",
    "        img_mean=img_mean, img_std=img_std\n",
    "    )\n",
    "    q1_lr_scheduler.step(epoch)\n",
    "    q2_lr_scheduler.step(epoch)\n",
    "    \n",
    "    evaluate(\n",
    "        train_df, IMG_PATH, valid_loader,\n",
    "        q1_model, q2_model, patch_size, device,\n",
    "        max_num_patches=max_num_patches, img_mean=img_mean, img_std=img_std\n",
    "    )"
   ]
  },
  {
   "cell_type": "code",
   "execution_count": null,
   "id": "97fb171b",
   "metadata": {},
   "outputs": [],
   "source": []
  }
 ],
 "metadata": {
  "kernelspec": {
   "display_name": "Python 3 (ipykernel)",
   "language": "python",
   "name": "python3"
  },
  "language_info": {
   "codemirror_mode": {
    "name": "ipython",
    "version": 3
   },
   "file_extension": ".py",
   "mimetype": "text/x-python",
   "name": "python",
   "nbconvert_exporter": "python",
   "pygments_lexer": "ipython3",
   "version": "3.9.13"
  },
  "vscode": {
   "interpreter": {
    "hash": "ad2bdc8ecc057115af97d19610ffacc2b4e99fae6737bb82f5d7fb13d2f2c186"
   }
  }
 },
 "nbformat": 4,
 "nbformat_minor": 5
}
