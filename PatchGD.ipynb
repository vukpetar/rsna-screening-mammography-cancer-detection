{
 "cells": [
  {
   "cell_type": "code",
   "execution_count": null,
   "id": "4b7ce851",
   "metadata": {},
   "outputs": [],
   "source": [
    "import os\n",
    "os.environ['CUDA_MODULE_LOADING']='LAZY'\n",
    "\n",
    "import math\n",
    "import cv2\n",
    "from collections import namedtuple\n",
    "import numpy as np\n",
    "import pandas as pd\n",
    "import matplotlib.pyplot as plt\n",
    "\n",
    "from timm.utils import NativeScaler\n",
    "from timm.optim import create_optimizer\n",
    "from timm.scheduler import create_scheduler\n",
    "\n",
    "from rsna_utils import *"
   ]
  },
  {
   "cell_type": "code",
   "execution_count": null,
   "id": "a32da2bd",
   "metadata": {},
   "outputs": [],
   "source": [
    "train_df = pd.read_csv(\"./dataset/train_with_box.csv\")\n",
    "train_df[\"id\"] = train_df.apply(lambda x: str(x.patient_id) + \"_\" + str(x.laterality), axis=1)"
   ]
  },
  {
   "cell_type": "code",
   "execution_count": null,
   "id": "e2657c20",
   "metadata": {},
   "outputs": [],
   "source": [
    "device = \"cuda\"\n",
    "lr = 5e-5\n",
    "weight_decay = 0.05\n",
    "momentum = 0.9\n",
    "batch_size = 32\n",
    "EPOCHES = 10\n",
    "\n",
    "q1_model = Q1Net(stem_chs=[64, 32, 64], depths=[3, 4, 20, 3], path_dropout=0.2)\n",
    "q1_model.to(device)\n",
    "load_q1_pretrained(\"./dataset/nextvit_base_in1k6m_384.pth\", q1_model)\n",
    "\n",
    "q2_model = Q2Net()\n",
    "q2_model.to(device)\n",
    "\n",
    "Args = namedtuple('Args', [\n",
    "    \"opt\",\n",
    "    \"lr\",\n",
    "    \"sched\",\n",
    "    \"epochs\",\n",
    "    \"warmup_epochs\",\n",
    "    \"weight_decay\",\n",
    "    \"decay_rate\",\n",
    "    \"decay_epochs\",\n",
    "    \"cooldown_epochs\",\n",
    "    \"min_lr\",\n",
    "    \"warmup_lr\",\n",
    "    \"batch_size\",\n",
    "    \"momentum\"\n",
    "])\n",
    "args = Args(\n",
    "    opt = \"adamw\",\n",
    "    lr = lr,\n",
    "    weight_decay = weight_decay,\n",
    "    batch_size = batch_size,\n",
    "    decay_rate = 0.1,\n",
    "    decay_epochs = 30,\n",
    "    warmup_epochs = 5,\n",
    "    cooldown_epochs = 10,\n",
    "    epochs = EPOCHES,\n",
    "    min_lr = 1e-5,\n",
    "    warmup_lr = 1e-6,\n",
    "    sched = \"cosine\",\n",
    "    momentum = momentum\n",
    ")\n",
    "\n",
    "loss_scaler = NativeScaler()\n",
    "q1_optimizer = create_optimizer(args, q1_model)\n",
    "q1_lr_scheduler, _ = create_scheduler(args, q1_optimizer)\n",
    "\n",
    "q2_optimizer = create_optimizer(args, q2_model)\n",
    "q2_lr_scheduler, _ = create_scheduler(args, q2_optimizer)\n",
    "\n",
    "criterion = nn.CrossEntropyLoss()"
   ]
  },
  {
   "cell_type": "code",
   "execution_count": null,
   "id": "b64a30c4",
   "metadata": {},
   "outputs": [],
   "source": [
    "inner_iterations = 12\n",
    "patch_size = 384\n",
    "k = 2\n",
    "grad_acc_steps = 1"
   ]
  },
  {
   "cell_type": "code",
   "execution_count": null,
   "id": "76613a55",
   "metadata": {},
   "outputs": [],
   "source": [
    "batch_patient_ids = [\"106_0\", \"236_0\", \"283_1\", \"500_0\"]\n",
    "labels = [1, 1, 1, 1]\n",
    "run_iteration(\n",
    "    train_df,\n",
    "    batch_patient_ids,\n",
    "    labels,\n",
    "    patch_size,\n",
    "    k,\n",
    "    q1_model,\n",
    "    q2_model,\n",
    "    criterion,\n",
    "    q1_optimizer,\n",
    "    q2_optimizer,\n",
    "    inner_iterations,\n",
    "    grad_acc_steps,\n",
    "    device\n",
    ")"
   ]
  },
  {
   "cell_type": "code",
   "execution_count": null,
   "id": "4e980268",
   "metadata": {},
   "outputs": [],
   "source": [
    "image = load_image(train_df, 582, patch_size)\n",
    "\n",
    "for patch in patch_generator(image, patch_size):\n",
    "    plt.imshow(patch[0])\n",
    "    plt.show()\n",
    "    break"
   ]
  },
  {
   "cell_type": "code",
   "execution_count": null,
   "id": "d25dfbd2",
   "metadata": {},
   "outputs": [],
   "source": [
    "batch_patient_ids = [\"106_0\", \"236_0\", \"283_1\", \"500_0\"]\n",
    "z_matrix, key_padding_mask = z_filling(train_df, batch_patient_ids, q1_model, patch_size, device)"
   ]
  },
  {
   "cell_type": "code",
   "execution_count": null,
   "id": "34d7bbc8",
   "metadata": {},
   "outputs": [],
   "source": []
  }
 ],
 "metadata": {
  "kernelspec": {
   "display_name": "Python 3 (ipykernel)",
   "language": "python",
   "name": "python3"
  },
  "language_info": {
   "codemirror_mode": {
    "name": "ipython",
    "version": 3
   },
   "file_extension": ".py",
   "mimetype": "text/x-python",
   "name": "python",
   "nbconvert_exporter": "python",
   "pygments_lexer": "ipython3",
   "version": "3.9.13"
  }
 },
 "nbformat": 4,
 "nbformat_minor": 5
}
